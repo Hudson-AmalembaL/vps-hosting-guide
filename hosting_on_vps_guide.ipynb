{
 "cells": [
  {
   "attachments": {},
   "cell_type": "markdown",
   "metadata": {},
   "source": [
    "## Setting up Django on Dreamhost VPS Servers with Version Control\n",
    "\n",
    "> **Note:** Hosting a django application on VPS servers can be alittle trouble especially if you have never done it before\n",
    ">\n",
    "> **I've written this notebook to help easen the process out.**\n"
   ]
  },
  {
   "attachments": {},
   "cell_type": "markdown",
   "metadata": {},
   "source": [
    "### _Overview_\n",
    "\n",
    "> This notebook assumes that you have already created your website (or application) on your local/home computer.\n",
    ">\n",
    "> The first step is to walk you through how to place it under git version control and use your VPS server as the 'remote' (external) repository to push to.\n",
    ">\n",
    "> In this way you'll be able to fully develop your application on you local machine while using your server as an extra place to save your code.\n"
   ]
  },
  {
   "attachments": {},
   "cell_type": "markdown",
   "metadata": {},
   "source": [
    "## Step 1 --- Create an SSH key pair\n",
    "\n",
    "> **Note:** This step explains how to create an SSH key pair on your local computer. You'll then use this to connect to the Dreamhost VPS servers.\n",
    ">\n",
    "> ##### 1. On your local computer, navigate to your user's `~/.ssh` directory\n",
    ">\n",
    "> > `[local ~]$ cd ~/.ssh`\n",
    "> >\n",
    "> > If the directory does not exist, then create it.\n",
    "> >\n",
    "> > `[local ~]$ mkdir ~/.ssh`\n",
    ">\n",
    "> ##### 2. Setup SSH Keys by running the following command.\n",
    ">\n",
    "> > The `-C` option allows you to add a comment to the private key file. The key comment may be useful to help identify the key in the future.\n",
    "> >\n",
    "> > `[local ~]$ ssh-keygen -t rsa -b 4096 -C \"Dreamhost Git Repo\"`\n",
    "> >\n",
    "> > Generating a public/private rsa key pair.\n",
    "> >\n",
    "> > Enter the file in which you wish to save they key (i.e., /Users/username/.ssh/id_rsa): dreamhost-git-key\n",
    ">\n",
    "> ##### 3. Enter a name for the file when prompted, such as `dreamhost-git-key`.\n",
    ">\n",
    "> >\n",
    ">\n",
    "> ##### 4. When prompted to enter a password, click **`Enter`** twice to Skip\n",
    ">\n",
    "> > Two new files are created in your user's `.ssh` folder.\n",
    "> >\n",
    "> > `[local ~]$ cd ~/.ssh`\n",
    "> >\n",
    "> > `[local ~]$ ls -la`\n",
    "> >\n",
    "> > dreamhost-git-key\n",
    "> >\n",
    "> > dreamhost-git-key.pub\n"
   ]
  },
  {
   "attachments": {},
   "cell_type": "markdown",
   "metadata": {},
   "source": []
  }
 ],
 "metadata": {
  "language_info": {
   "name": "python"
  },
  "orig_nbformat": 4
 },
 "nbformat": 4,
 "nbformat_minor": 2
}
